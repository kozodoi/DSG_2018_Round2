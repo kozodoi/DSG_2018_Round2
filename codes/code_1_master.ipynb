{
 "cells": [
  {
   "cell_type": "markdown",
   "metadata": {
    "colab_type": "text",
    "id": "DvqoREUqhM4n"
   },
   "source": [
    "# **DSG 20!8 - MASTER CODE**"
   ]
  },
  {
   "cell_type": "markdown",
   "metadata": {
    "colab_type": "text",
    "id": "B90A_oxZhwNS"
   },
   "source": [
    "## **1. PACKAGES**"
   ]
  },
  {
   "cell_type": "code",
   "execution_count": 1,
   "metadata": {
    "colab": {},
    "colab_type": "code",
    "id": "jh8XMV3-g4cb"
   },
   "outputs": [],
   "source": [
    "# packages\n",
    "import lightgbm as lgb\n",
    "import xgboost as xgb\n",
    "import pandas as pd\n",
    "import numpy as np\n",
    "import os\n",
    "import gzip\n",
    "import scipy.stats\n",
    "from sklearn.model_selection import StratifiedKFold\n",
    "from sklearn.metrics import log_loss\n",
    "import matplotlib.pyplot as plt\n",
    "import seaborn as sns\n",
    "import io\n",
    "import requests\n",
    "import json\n",
    "from pandas.io.json import json_normalize"
   ]
  },
  {
   "cell_type": "code",
   "execution_count": 2,
   "metadata": {
    "colab": {},
    "colab_type": "code",
    "id": "lYbvyrVQNavo"
   },
   "outputs": [],
   "source": [
    "# warnings\n",
    "import warnings\n",
    "warnings.filterwarnings(\"ignore\")"
   ]
  },
  {
   "cell_type": "markdown",
   "metadata": {
    "colab_type": "text",
    "id": "rP1yFaaEinCJ"
   },
   "source": [
    "## **2. DATA PREPROCESSING**"
   ]
  },
  {
   "cell_type": "markdown",
   "metadata": {
    "colab_type": "text",
    "id": "HtP_9Daky9AI"
   },
   "source": [
    "### 2.1. IMPORT AND MEGRER"
   ]
  },
  {
   "cell_type": "code",
   "execution_count": 3,
   "metadata": {
    "colab": {},
    "colab_type": "code",
    "id": "uuUene-ng3To"
   },
   "outputs": [],
   "source": [
    "# json cols\n",
    "cols = ['products', 'dproducts', 'carproducts', 'ocarproducts', 'ofacets', 'odproducts', 'oproducts']"
   ]
  },
  {
   "cell_type": "code",
   "execution_count": 4,
   "metadata": {
    "colab": {},
    "colab_type": "code",
    "id": "-zD7Q-1RiowZ"
   },
   "outputs": [],
   "source": [
    "# import data\n",
    "df_session = pd.read_csv(\"../data/train_session.csv\")\n",
    "df_train   = pd.read_csv('../data/train_tracking.csv')\n",
    "df_test    = pd.read_csv('../data/test_tracking.csv')"
   ]
  },
  {
   "cell_type": "code",
   "execution_count": 5,
   "metadata": {
    "colab": {},
    "colab_type": "code",
    "id": "27PfcP1vxa07"
   },
   "outputs": [],
   "source": [
    "# import other data\n",
    "cp   = pd.read_csv('../data/cproduct.csv')\n",
    "rvo  = pd.read_csv(\"../data/ocarproducts_per_sku.csv\")\n",
    "skup = pd.read_csv('../data/price_per_sku.csv')\n",
    "po   = pd.read_csv('../data/product_oproduct.csv')\n",
    "del po[\"sid\"]"
   ]
  },
  {
   "cell_type": "code",
   "execution_count": 6,
   "metadata": {
    "colab": {
     "base_uri": "https://localhost:8080/",
     "height": 85
    },
    "colab_type": "code",
    "executionInfo": {
     "elapsed": 138,
     "status": "ok",
     "timestamp": 1538208677093,
     "user": {
      "displayName": "Nikita Kozodoi",
      "photoUrl": "",
      "userId": "17221903670012320244"
     },
     "user_tz": -120
    },
    "id": "8QJdi5WTBCVc",
    "outputId": "9a7e8e7b-4beb-4161-fe9f-97193fa6bd34"
   },
   "outputs": [
    {
     "name": "stdout",
     "output_type": "stream",
     "text": [
      "(133123, 2)\n",
      "(1355095, 31)\n",
      "(908233, 31)\n"
     ]
    }
   ],
   "source": [
    "# dimensions\n",
    "print(df_session.shape)\n",
    "print(df_train.shape)\n",
    "print(df_test.shape)"
   ]
  },
  {
   "cell_type": "code",
   "execution_count": 7,
   "metadata": {
    "colab": {},
    "colab_type": "code",
    "id": "S4msQVYYwZtp"
   },
   "outputs": [],
   "source": [
    "# test set indicator\n",
    "df_train[\"test\"] = 0\n",
    "df_test[\"test\"]  = 1"
   ]
  },
  {
   "cell_type": "code",
   "execution_count": 8,
   "metadata": {
    "colab": {
     "base_uri": "https://localhost:8080/",
     "height": 34
    },
    "colab_type": "code",
    "executionInfo": {
     "elapsed": 3612,
     "status": "ok",
     "timestamp": 1538208681583,
     "user": {
      "displayName": "Nikita Kozodoi",
      "photoUrl": "",
      "userId": "17221903670012320244"
     },
     "user_tz": -120
    },
    "id": "cXZLDqpqwkfH",
    "outputId": "e47fe3db-0cd3-479d-ab80-1af62dd0b81e"
   },
   "outputs": [
    {
     "data": {
      "text/plain": [
       "(2263328, 33)"
      ]
     },
     "execution_count": 8,
     "metadata": {},
     "output_type": "execute_result"
    }
   ],
   "source": [
    "# merge data\n",
    "df = df_train.append(df_test)\n",
    "df = df.merge(df_session, how = \"left\", on = \"sid\")\n",
    "df.shape"
   ]
  },
  {
   "cell_type": "code",
   "execution_count": 9,
   "metadata": {
    "colab": {
     "base_uri": "https://localhost:8080/",
     "height": 102
    },
    "colab_type": "code",
    "executionInfo": {
     "elapsed": 12690,
     "status": "ok",
     "timestamp": 1538208694910,
     "user": {
      "displayName": "Nikita Kozodoi",
      "photoUrl": "",
      "userId": "17221903670012320244"
     },
     "user_tz": -120
    },
    "id": "PfpLxnFJmyva",
    "outputId": "e7ce293f-94d2-4dec-ff5c-5dd31919ef57"
   },
   "outputs": [
    {
     "name": "stdout",
     "output_type": "stream",
     "text": [
      "(2263328, 33)\n",
      "(2263328, 43)\n",
      "(2263328, 53)\n",
      "(2263328, 54)\n",
      "(2263328, 58)\n"
     ]
    }
   ],
   "source": [
    "# merge additional data\n",
    "print(df.shape)\n",
    "df = pd.concat([df, po], axis = 1)\n",
    "print(df.shape)\n",
    "df = pd.concat([df, cp], axis = 1)\n",
    "print(df.shape)\n",
    "df = df.merge(skup, how = \"left\", on = \"sku\")\n",
    "print(df.shape)\n",
    "df = df.merge(rvo[[\"sku\", \"ocar_price\", \"ocar_rvoter\", \"ocar_stock\", \"ocar_rate\"]], how = \"left\", on = \"sku\")\n",
    "print(df.shape)"
   ]
  },
  {
   "cell_type": "markdown",
   "metadata": {
    "colab_type": "text",
    "id": "HIdfjzJOzDIG"
   },
   "source": [
    "### 2.2. FEATURE ENGINEERING (STAGE 1)"
   ]
  },
  {
   "cell_type": "code",
   "execution_count": 10,
   "metadata": {
    "colab": {},
    "colab_type": "code",
    "id": "UENCVUq1Bd9g"
   },
   "outputs": [],
   "source": [
    "### feature: mean target per event type\n",
    "\n",
    "# extract data for counting\n",
    "sid_ids  = df_train.sid.unique()[0:1331]\n",
    "df_count = df[df.sid.isin(list(sid_ids))]\n",
    "df       = df[-df.sid.isin(list(sid_ids))]\n",
    "\n",
    "# compute mean targets\n",
    "df_count.target[df_count.target == False] = 0\n",
    "df_count.target[df_count.target == True]  = 1\n",
    "df_count.target = df_count.target.astype(\"int32\")\n",
    "y_per_type_simplified = df_count.groupby(\"type\", as_index = False).target.mean()\n",
    "y_per_type_simplified.columns = [\"type\", \"y_per_type\"]\n",
    "\n",
    "# feature: mean target per event type\n",
    "df = df.merge(y_per_type_simplified, how = \"left\", on = [\"type\"])"
   ]
  },
  {
   "cell_type": "code",
   "execution_count": 11,
   "metadata": {
    "colab": {},
    "colab_type": "code",
    "id": "NlF-U2sD74EA"
   },
   "outputs": [],
   "source": [
    "# duration variables\n",
    "df['duration_no_days'] = df.duration.apply(lambda x: x[6:])\n",
    "df['hours'] = df.duration_no_days.apply(lambda x: x[0:3]).astype('int')\n",
    "df['min'] = df.duration_no_days.apply(lambda x: x[4:6]).astype('int')\n",
    "df['secs'] = df.duration_no_days.apply(lambda x: x[7:9]).astype('int')\n",
    "df['sec'] = df['hours']*360 + df['min']*60 + df['secs']\n",
    "df.drop(['duration', 'duration_no_days','hours','min','secs'], axis=1, inplace=True)"
   ]
  },
  {
   "cell_type": "code",
   "execution_count": 12,
   "metadata": {
    "colab": {},
    "colab_type": "code",
    "id": "qZzrbuW8ifub"
   },
   "outputs": [],
   "source": [
    "### keep only last/first 20 pages\n",
    "#print(df.shape)\n",
    "#kk = 20\n",
    "#df = df.sort_values([\"sid\", \"sec\"])\n",
    "#df = df.groupby(\"sid\").tail(kk)\n",
    "#print(df.shape)"
   ]
  },
  {
   "cell_type": "code",
   "execution_count": 13,
   "metadata": {
    "colab": {},
    "colab_type": "code",
    "id": "U_aEQ7yCNgkL"
   },
   "outputs": [],
   "source": [
    "# feature: number of page views\n",
    "pages = df[\"sid\"].value_counts().reset_index()\n",
    "pages.columns = [\"sid\", \"pages\"]"
   ]
  },
  {
   "cell_type": "code",
   "execution_count": 14,
   "metadata": {
    "colab": {},
    "colab_type": "code",
    "id": "wSVFbkl-fb2n"
   },
   "outputs": [],
   "source": [
    "### features: unique numbers\n",
    "\n",
    "# feature: no. unique queries\n",
    "#df[\"unique_queries\"]  = df.groupby(\"sid\")[\"query\"].agg(lambda x:  x.nunique())\n",
    "#df[\"unique_oqueries\"] = df.groupby(\"sid\")[\"oquery\"].agg(lambda x: x.nunique())\n",
    "\n",
    "# feature: no. unique skus\n",
    "#df[\"unique_skus\"] = df.groupby(\"sid\")[\"sku\"].agg(lambda x: x.nunique())\n",
    "\n",
    "# feature: no. unique offerid\n",
    "#df[\"unique_offerid\"] = df.groupby(\"offerid\")[\"offerid\"].agg(lambda x: x.nunique())\n",
    "\n",
    "# feature: no. unique idcar\n",
    "#df[\"unique_idcar\"]  = df.groupby(\"idcar\")[\"idcar\"].agg(lambda x: x.nunique())\n",
    "#df[\"unique_oidcar\"] = df.groupby(\"oidcar\")[\"oidcar\"].agg(lambda x: x.nunique())"
   ]
  },
  {
   "cell_type": "code",
   "execution_count": 15,
   "metadata": {
    "colab": {},
    "colab_type": "code",
    "id": "MtDtkAj7Czq6"
   },
   "outputs": [],
   "source": [
    "### features: are there any filters?\n",
    "import re\n",
    "\n",
    "# function\n",
    "def facets_bla(x):\n",
    "  if str(x)!='nan':\n",
    "    facets.append(np.sum([int(i[2:]) for i in re.findall(r': \\w+', x)]))\n",
    "  else:\n",
    "    facets.append(0)\n",
    "\n",
    "# no. filters\n",
    "facets = []  \n",
    "df.facets.apply(lambda x: facets_bla(x))\n",
    "df[\"num_facets\"] = facets\n",
    "\n",
    "# no. ofilters\n",
    "facets = []\n",
    "df.ofacets.apply(lambda x: facets_bla(x))\n",
    "df[\"num_ofacets\"] = facets"
   ]
  },
  {
   "cell_type": "code",
   "execution_count": 16,
   "metadata": {
    "colab": {},
    "colab_type": "code",
    "id": "hj10rfI3u65k"
   },
   "outputs": [],
   "source": [
    "# feature: resolution\n",
    "df[\"resolution\"] = df[\"rh\"] * df[\"rw\"]"
   ]
  },
  {
   "cell_type": "code",
   "execution_count": 17,
   "metadata": {
    "colab": {},
    "colab_type": "code",
    "id": "YCzWcbGo5nlU"
   },
   "outputs": [],
   "source": [
    "# feature: last type simplified (1/2)\n",
    "dfg = df.sort_values([\"sid\", \"sec\"])\n",
    "dfg = dfg.groupby(\"sid\").type_simplified.last().reset_index()"
   ]
  },
  {
   "cell_type": "code",
   "execution_count": 18,
   "metadata": {
    "colab": {},
    "colab_type": "code",
    "id": "l3xkVRTLH1Cd"
   },
   "outputs": [],
   "source": [
    "# feature: sec per type simplified (1/2)\n",
    "dfs = df.sort_values([\"sid\", \"sec\"])\n",
    "dfs[\"sec_on_page\"] = dfs.groupby(\"sid\")[\"sec\"].diff()\n",
    "sums = dfs.groupby([\"sid\", \"type_simplified\"], as_index = False)[\"sec_on_page\"].sum()\n",
    "sums.columns = [\"sid\", \"type_simplified\", \"sec_per_type_simplified\"]\n",
    "\n",
    "# feature: sec per type simplified (2/2)\n",
    "df = df.merge(sums, how = \"left\", on = [\"sid\", \"type_simplified\"])"
   ]
  },
  {
   "cell_type": "code",
   "execution_count": 19,
   "metadata": {
    "colab": {},
    "colab_type": "code",
    "id": "WyUFRFEVJ1ZO"
   },
   "outputs": [],
   "source": [
    "# feature: sec per type (1/2)\n",
    "dfss = df.sort_values([\"sid\", \"sec\"])\n",
    "dfss[\"sec_on_page\"] = dfss.groupby(\"sid\")[\"sec\"].diff()\n",
    "sumss = dfss.groupby([\"sid\", \"type\"], as_index = False)[\"sec_on_page\"].sum()\n",
    "sumss.columns = [\"sid\", \"type\", \"sec_per_type\"]\n",
    "\n",
    "# feature: sec per type (2/2)\n",
    "df = df.merge(sumss, how = \"left\", on = [\"sid\", \"type\"])"
   ]
  },
  {
   "cell_type": "code",
   "execution_count": 20,
   "metadata": {
    "colab": {},
    "colab_type": "code",
    "id": "f1BX5dfw7Lvz"
   },
   "outputs": [],
   "source": [
    "# feature: sec on page aggregates (1/2)\n",
    "dfsec = df.sort_values([\"sid\", \"sec\"])\n",
    "dfsec[\"sec_on_page\"] = dfsec.groupby(\"sid\")[\"sec\"].diff()\n",
    "dfsec = dfsec.groupby(\"sid\").sec_on_page.agg([\"mean\", \"min\", \"max\", \"std\"]).reset_index()\n",
    "dfsec.columns = [\"sid\", \"sec_on_page_mean\", \"sec_on_page_min\", \"sec_on_page_max\", \"sec_on_page_sd\"]"
   ]
  },
  {
   "cell_type": "code",
   "execution_count": 21,
   "metadata": {
    "colab": {},
    "colab_type": "code",
    "id": "eCWbe1zkKrgC"
   },
   "outputs": [],
   "source": [
    "# feature: sec on page - last 5 - aggregates (1/2)\n",
    "dfsecl = df.sort_values([\"sid\", \"sec\"])\n",
    "dfsecl = dfsecl.groupby(\"sid\").tail(5)\n",
    "dfsecl[\"sec_on_page\"] = dfsecl.groupby(\"sid\")[\"sec\"].diff()\n",
    "dfsecl = dfsecl.groupby(\"sid\").sec_on_page.agg([\"mean\", \"min\", \"max\", \"std\"]).reset_index()\n",
    "dfsecl.columns = [\"sid\", \"l5_sec_on_page_mean\", \"l5_sec_on_page_min\", \"l5_sec_on_page_max\", \"l5_sec_on_page_sd\"]\n",
    "\n",
    "# feature: sec on page - last 3 - aggregates (1/2)\n",
    "dfsecj = df.sort_values([\"sid\", \"sec\"])\n",
    "dfsecj = dfsecj.groupby(\"sid\").tail(3)\n",
    "dfsecj[\"sec_on_page\"] = dfsecj.groupby(\"sid\")[\"sec\"].diff()\n",
    "dfsecj = dfsecj.groupby(\"sid\").sec_on_page.agg([\"mean\", \"min\", \"max\", \"std\"]).reset_index()\n",
    "dfsecj.columns = [\"sid\", \"l3_sec_on_page_mean\", \"l3_sec_on_page_min\", \"l3_sec_on_page_max\", \"l3_sec_on_page_sd\"]"
   ]
  },
  {
   "cell_type": "code",
   "execution_count": 22,
   "metadata": {
    "colab": {},
    "colab_type": "code",
    "id": "Lj4zx-cGGzUB"
   },
   "outputs": [],
   "source": [
    "# dummy encoding for some factors\n",
    "df = pd.concat([df[[\"type\", \"type_simplified\"]], \n",
    "                pd.get_dummies(df, drop_first = False, columns = [\"type\", \"device\", \"stype\", \"type_simplified\", \"siteid\"])],\n",
    "                axis = 1)"
   ]
  },
  {
   "cell_type": "markdown",
   "metadata": {
    "colab_type": "text",
    "id": "HIdfjzJOzDIG"
   },
   "source": [
    "### 2.3. AGGREGATIONS"
   ]
  },
  {
   "cell_type": "code",
   "execution_count": 23,
   "metadata": {
    "colab": {},
    "colab_type": "code",
    "id": "t6gIl0iUIEKz"
   },
   "outputs": [],
   "source": [
    "# drop jsons\n",
    "omits = ['products', 'dproducts', 'carproducts', 'ocarproducts', 'ofacets', 'odproducts', 'oproducts']\n",
    "for var in omits:\n",
    "    del df[var]"
   ]
  },
  {
   "cell_type": "code",
   "execution_count": 24,
   "metadata": {
    "colab": {},
    "colab_type": "code",
    "id": "vnnrwr5FIoUs"
   },
   "outputs": [],
   "source": [
    "# drop some factors\n",
    "omits = [\"facets\"]\n",
    "for var in omits:\n",
    "    del df[var]"
   ]
  },
  {
   "cell_type": "code",
   "execution_count": 25,
   "metadata": {
    "colab": {},
    "colab_type": "code",
    "id": "rK_7n8_7z6Pj"
   },
   "outputs": [],
   "source": [
    "##### FUNCTION FOR AGGREGATING DATA\n",
    "def aggregate_data(data, id_var, label = None):\n",
    "    \n",
    "    \n",
    "    ### SEPARATE FEATURES\n",
    "  \n",
    "    # display info\n",
    "    print(\"- Preparing the dataset...\")\n",
    "\n",
    "    # find factors\n",
    "    data_factors = [f for f in data.columns if data[f].dtype == \"object\"]\n",
    "    \n",
    "    # partition subsets\n",
    "    num_data = data[[id_var] + list(set(data.columns) - set(data_factors))]\n",
    "    fac_data = data[data_factors]\n",
    "    \n",
    "    # display info\n",
    "    num_facs = fac_data.shape[1] - 1\n",
    "    num_nums = num_data.shape[1] - 1\n",
    "    print(\"- Extracted %.0f factors and %.0f numerics...\" % (num_facs, num_nums))\n",
    "\n",
    "\n",
    "    ##### AGGREGATION\n",
    " \n",
    "    # aggregate numerics\n",
    "    if (num_nums > 0):\n",
    "        print(\"- Aggregating numeric features...\")\n",
    "        num_data = num_data.groupby([id_var]).agg([\"mean\", \"std\", \"min\", \"max\", \"sum\"])\n",
    "        num_data.columns = [\"_\".join(col).strip() for col in num_data.columns.values]\n",
    "        num_data = num_data.sort_index()\n",
    "\n",
    "    # aggregate factors\n",
    "    if (num_facs > 0):\n",
    "        print(\"- Aggregating factor features...\")\n",
    "        fac_data = fac_data.groupby([id_var]).agg([(\"mode\",   lambda x: scipy.stats.mode(x)[0][0]),\n",
    "                                                 (\"nunique\",  lambda x: x.nunique())])\n",
    "        fac_data.columns = [\"_\".join(col).strip() for col in fac_data.columns.values]\n",
    "        fac_data = fac_data.sort_index()\n",
    "\n",
    "\n",
    "    ##### MERGER\n",
    "\n",
    "    # merge numerics and factors\n",
    "    if ((num_facs > 0) & (num_nums > 0)):\n",
    "        agg_data = pd.concat([num_data, fac_data], axis = 1)\n",
    "    \n",
    "    # use factors only\n",
    "    if ((num_facs > 0) & (num_nums == 0)):\n",
    "        agg_data = fac_data\n",
    "        \n",
    "    # use numerics only\n",
    "    if ((num_facs == 0) & (num_nums > 0)):\n",
    "        agg_data = num_data\n",
    "        \n",
    "\n",
    "    ##### LAST STEPS\n",
    "\n",
    "    # update labels\n",
    "    if label != None:\n",
    "        agg_data.columns = [label + \"_\" + str(col) for col in agg_data.columns]\n",
    "    \n",
    "    # impute zeros for SD\n",
    "    #stdevs = agg_data.filter(like = \"_std\").columns\n",
    "    #for var in stdevs:\n",
    "    #    agg_data[var].fillna(0, inplace = True)\n",
    "\n",
    "    # display info\n",
    "    print(\"- Final dimensions:\", agg_data.shape)\n",
    "    \n",
    "    # return dataset\n",
    "    return agg_data"
   ]
  },
  {
   "cell_type": "code",
   "execution_count": 26,
   "metadata": {
    "colab": {
     "base_uri": "https://localhost:8080/",
     "height": 102
    },
    "colab_type": "code",
    "executionInfo": {
     "elapsed": 197985,
     "status": "ok",
     "timestamp": 1538209823924,
     "user": {
      "displayName": "Nikita Kozodoi",
      "photoUrl": "",
      "userId": "17221903670012320244"
     },
     "user_tz": -120
    },
    "id": "0fPNzLeX0Syx",
    "outputId": "a53b663b-dd89-4fef-bfd2-69fb385796de"
   },
   "outputs": [
    {
     "name": "stdout",
     "output_type": "stream",
     "text": [
      "- Preparing the dataset...\n",
      "- Extracted 10 factors and 79 numerics...\n",
      "- Aggregating numeric features...\n",
      "- Aggregating factor features...\n",
      "- Final dimensions: (220542, 401)\n"
     ]
    }
   ],
   "source": [
    "# aggregating\n",
    "df_agg = aggregate_data(df, id_var = \"sid\")"
   ]
  },
  {
   "cell_type": "code",
   "execution_count": 27,
   "metadata": {
    "colab": {},
    "colab_type": "code",
    "id": "mPsEuU6h3MRX"
   },
   "outputs": [],
   "source": [
    "# clean up\n",
    "omits = [\"test\", \"unique_queries\", \"unique_oqueries\", \"unique_skus\", \"unique_offerid\", \"unique_idcar\", \"unique_idocar\"]\n",
    "for var in omits:\n",
    "    try:\n",
    "      del df_agg[str(var) + \"_std\"]\n",
    "    except:\n",
    "      pass\n",
    "    try:\n",
    "      del df_agg[str(var) + \"_min\"]\n",
    "    except:\n",
    "      pass\n",
    "    try:\n",
    "      del df_agg[str(var) + \"_max\"]\n",
    "    except:\n",
    "      pass\n",
    "    try:\n",
    "      del df_agg[str(var) + \"_sum\"]\n",
    "    except:\n",
    "      pass"
   ]
  },
  {
   "cell_type": "code",
   "execution_count": 28,
   "metadata": {
    "colab": {},
    "colab_type": "code",
    "id": "ZzpqH8WBqJkh"
   },
   "outputs": [],
   "source": [
    "# clean up seconds\n",
    "del df_agg[\"sec_min\"]\n",
    "del df_agg[\"sec_per_type_simplified_min\"]\n",
    "del df_agg[\"sec_per_type_simplified_max\"]\n",
    "del df_agg[\"sec_per_type_simplified_sum\"]\n",
    "del df_agg[\"sec_per_type_min\"]\n",
    "del df_agg[\"sec_per_type_max\"]\n",
    "del df_agg[\"sec_per_type_sum\"]"
   ]
  },
  {
   "cell_type": "code",
   "execution_count": 29,
   "metadata": {
    "colab": {},
    "colab_type": "code",
    "id": "WdHB-tLaKLGY"
   },
   "outputs": [],
   "source": [
    "# clean up target\n",
    "df_agg[\"target\"] = df_agg.target_mode\n",
    "del df_agg[\"target_mode\"]\n",
    "del df_agg[\"target_nunique\"]"
   ]
  },
  {
   "cell_type": "markdown",
   "metadata": {
    "colab_type": "text",
    "id": "HIdfjzJOzDIG"
   },
   "source": [
    "### 2.4. FEATURE ENGINEERING (STAGE 2)"
   ]
  },
  {
   "cell_type": "code",
   "execution_count": 30,
   "metadata": {
    "colab": {
     "base_uri": "https://localhost:8080/",
     "height": 51
    },
    "colab_type": "code",
    "executionInfo": {
     "elapsed": 1174,
     "status": "ok",
     "timestamp": 1538209827912,
     "user": {
      "displayName": "Nikita Kozodoi",
      "photoUrl": "",
      "userId": "17221903670012320244"
     },
     "user_tz": -120
    },
    "id": "E5BkOTZbOXcI",
    "outputId": "35310f15-f5d6-438c-a465-d92587d0c70a"
   },
   "outputs": [
    {
     "name": "stdout",
     "output_type": "stream",
     "text": [
      "(220542, 389)\n",
      "(220542, 390)\n"
     ]
    }
   ],
   "source": [
    "# feature: number of pages (2/2)\n",
    "print(df_agg.shape)\n",
    "df_agg[\"sid\"] = df_agg.index\n",
    "df_agg = df_agg.merge(pages, how = \"left\", on = \"sid\")\n",
    "df_agg = df_agg.set_index(\"sid\")\n",
    "print(df_agg.shape)"
   ]
  },
  {
   "cell_type": "code",
   "execution_count": 31,
   "metadata": {
    "colab": {
     "base_uri": "https://localhost:8080/",
     "height": 51
    },
    "colab_type": "code",
    "executionInfo": {
     "elapsed": 1383,
     "status": "ok",
     "timestamp": 1538209829337,
     "user": {
      "displayName": "Nikita Kozodoi",
      "photoUrl": "",
      "userId": "17221903670012320244"
     },
     "user_tz": -120
    },
    "id": "oqJZrGFc56zd",
    "outputId": "17ff5d5e-6351-45b9-9e05-cabf44019942"
   },
   "outputs": [
    {
     "name": "stdout",
     "output_type": "stream",
     "text": [
      "(220542, 390)\n",
      "(220542, 391)\n"
     ]
    }
   ],
   "source": [
    "# feature: last type simplified (2/2)\n",
    "print(df_agg.shape)\n",
    "df_agg[\"sid\"] = df_agg.index\n",
    "df_agg = df_agg.merge(dfg, how = \"left\", on = \"sid\")\n",
    "df_agg = df_agg.set_index(\"sid\")\n",
    "print(df_agg.shape)"
   ]
  },
  {
   "cell_type": "code",
   "execution_count": 32,
   "metadata": {
    "colab": {},
    "colab_type": "code",
    "id": "Wewn3V37UMKD"
   },
   "outputs": [],
   "source": [
    "# feature: seconds per page\n",
    "#df_agg[\"sec_per_page\"] = df_agg.pages / df_agg.sec_max \n",
    "#df_agg[\"sec_per_page\"].isinf()"
   ]
  },
  {
   "cell_type": "code",
   "execution_count": 33,
   "metadata": {
    "colab": {
     "base_uri": "https://localhost:8080/",
     "height": 51
    },
    "colab_type": "code",
    "executionInfo": {
     "elapsed": 1375,
     "status": "ok",
     "timestamp": 1538209832081,
     "user": {
      "displayName": "Nikita Kozodoi",
      "photoUrl": "",
      "userId": "17221903670012320244"
     },
     "user_tz": -120
    },
    "id": "RcMJy7jE9X-q",
    "outputId": "8cf0260d-da51-45ba-aaab-b7179d82e1fc"
   },
   "outputs": [
    {
     "name": "stdout",
     "output_type": "stream",
     "text": [
      "(220542, 391)\n",
      "(220542, 395)\n"
     ]
    }
   ],
   "source": [
    "# feature: sec on page aggregates (2/2)\n",
    "print(df_agg.shape)\n",
    "df_agg[\"sid\"] = df_agg.index\n",
    "df_agg = df_agg.merge(dfsec, how = \"left\", on = [\"sid\"])\n",
    "df_agg = df_agg.set_index(\"sid\")\n",
    "print(df_agg.shape)"
   ]
  },
  {
   "cell_type": "code",
   "execution_count": 34,
   "metadata": {
    "colab": {
     "base_uri": "https://localhost:8080/",
     "height": 85
    },
    "colab_type": "code",
    "executionInfo": {
     "elapsed": 2705,
     "status": "ok",
     "timestamp": 1538209834830,
     "user": {
      "displayName": "Nikita Kozodoi",
      "photoUrl": "",
      "userId": "17221903670012320244"
     },
     "user_tz": -120
    },
    "id": "DfMLqmbqKj26",
    "outputId": "2656f69a-57a8-481d-8469-2402a2fd13c2"
   },
   "outputs": [
    {
     "name": "stdout",
     "output_type": "stream",
     "text": [
      "(220542, 395)\n",
      "(220542, 399)\n",
      "(220542, 399)\n",
      "(220542, 403)\n"
     ]
    }
   ],
   "source": [
    "# feature: sec on page - last 5 - aggregates (2/2)\n",
    "print(df_agg.shape)\n",
    "df_agg[\"sid\"] = df_agg.index\n",
    "df_agg = df_agg.merge(dfsecl, how = \"left\", on = [\"sid\"])\n",
    "df_agg = df_agg.set_index(\"sid\")\n",
    "print(df_agg.shape)\n",
    "\n",
    "# feature: sec on page - last 3 - aggregates (2/2)\n",
    "print(df_agg.shape)\n",
    "df_agg[\"sid\"] = df_agg.index\n",
    "df_agg = df_agg.merge(dfsecj, how = \"left\", on = [\"sid\"])\n",
    "df_agg = df_agg.set_index(\"sid\")\n",
    "print(df_agg.shape)"
   ]
  },
  {
   "cell_type": "code",
   "execution_count": 35,
   "metadata": {
    "colab": {
     "base_uri": "https://localhost:8080/",
     "height": 34
    },
    "colab_type": "code",
    "executionInfo": {
     "elapsed": 134,
     "status": "ok",
     "timestamp": 1538209835013,
     "user": {
      "displayName": "Nikita Kozodoi",
      "photoUrl": "",
      "userId": "17221903670012320244"
     },
     "user_tz": -120
    },
    "id": "eghbHlCw60Ti",
    "outputId": "b9d29e93-4174-4332-bf0b-0bf628249bd1"
   },
   "outputs": [
    {
     "name": "stdout",
     "output_type": "stream",
     "text": [
      "(220542, 403)\n"
     ]
    }
   ],
   "source": [
    "# label encoder for remaining factors\n",
    "data_factors = [f for f in df_agg.columns if df_agg[f].dtype == \"object\"]\n",
    "for var in data_factors:\n",
    "    df_agg[var], _ = pd.factorize(df_agg[var])\n",
    "print(df_agg.shape)"
   ]
  },
  {
   "cell_type": "code",
   "execution_count": 37,
   "metadata": {
    "colab": {
     "base_uri": "https://localhost:8080/",
     "height": 34
    },
    "colab_type": "code",
    "executionInfo": {
     "elapsed": 4010,
     "status": "ok",
     "timestamp": 1538210034920,
     "user": {
      "displayName": "Nikita Kozodoi",
      "photoUrl": "",
      "userId": "17221903670012320244"
     },
     "user_tz": -120
    },
    "id": "WDCEZQ9007Wi",
    "outputId": "589b1578-1c81-4060-b561-3d853332daad"
   },
   "outputs": [
    {
     "name": "stdout",
     "output_type": "stream",
     "text": [
      "(220542, 403)\n",
      "(220542, 545)\n"
     ]
    }
   ],
   "source": [
    "# add last-minute features\n",
    "print(df_agg.shape)\n",
    "l = pd.read_csv(\"../data/dfa4_sid.csv\")\n",
    "df_agg = df_agg.merge(l, how = \"left\", on = \"sid\")\n",
    "print(df_agg.shape)"
   ]
  },
  {
   "cell_type": "code",
   "execution_count": null,
   "metadata": {
    "colab": {},
    "colab_type": "code",
    "id": "_rw2JYG12fs4"
   },
   "outputs": [],
   "source": [
    "# merge graph-based features\n",
    "#g1 = pd.read_csv(\"data/gg1.csv\")\n",
    "#g2 = pd.read_csv(\"data/gg2.csv\")\n",
    "#g3 = pd.read_csv(\"data/graphs3.csv\")\n",
    "#graphs = pd.concat([g1, g2, g3], axis = 0)\n",
    "#print(graphs.shape)\n",
    "#graphs = graphs.drop_duplicates(axis = 1)\n",
    "#print(graphs.shape)\n",
    "\n",
    "#df_agg = df_agg.merge(g1, how = \"right\", on = \"sid\")\n",
    "#df_agg.shape\n",
    "\n",
    "#gg = pd.concat([g1, g2], axis = 0)\n",
    "#gg = gg.drop_duplicates()\n",
    "#gg.shape"
   ]
  },
  {
   "cell_type": "code",
   "execution_count": null,
   "metadata": {},
   "outputs": [],
   "source": [
    "# remove all constant columns\n",
    "print(df_agg.shape)\n",
    "df_agg = df_agg.loc[:,df_agg.apply(pd.Series.nunique) != 1]\n",
    "print(df_agg.shape)s"
   ]
  },
  {
   "cell_type": "markdown",
   "metadata": {
    "colab_type": "text",
    "id": "HIdfjzJOzDIG"
   },
   "source": [
    "### 2.5. EXPORT "
   ]
  },
  {
   "cell_type": "code",
   "execution_count": 39,
   "metadata": {
    "colab": {},
    "colab_type": "code",
    "id": "JO-paXRnwq2S"
   },
   "outputs": [
    {
     "name": "stdout",
     "output_type": "stream",
     "text": [
      "(220542, 545)\n"
     ]
    }
   ],
   "source": [
    "# save data\n",
    "df_agg.to_csv(\"../data/data_agg_last.csv.gz\", index = True, compression = \"gzip\")\n",
    "print(df_agg.shape)"
   ]
  },
  {
   "cell_type": "markdown",
   "metadata": {
    "colab_type": "text",
    "id": "GvgvDC3MisBM"
   },
   "source": [
    "## **3. MODELING**"
   ]
  },
  {
   "cell_type": "code",
   "execution_count": null,
   "metadata": {
    "colab": {},
    "colab_type": "code",
    "id": "TleIHeepaXIP"
   },
   "outputs": [],
   "source": [
    "# load data\n",
    "df_agg = pd.read_csv(\"../data/data_agg_last.csv.gz\", compression = \"gzip\")\n",
    "print(df_agg.shape)"
   ]
  },
  {
   "cell_type": "code",
   "execution_count": 40,
   "metadata": {
    "colab": {
     "base_uri": "https://localhost:8080/",
     "height": 51
    },
    "colab_type": "code",
    "executionInfo": {
     "elapsed": 823,
     "status": "ok",
     "timestamp": 1538210048685,
     "user": {
      "displayName": "Nikita Kozodoi",
      "photoUrl": "",
      "userId": "17221903670012320244"
     },
     "user_tz": -120
    },
    "id": "CFRupIqG5CzT",
    "outputId": "d8da7eca-ae99-4fbf-8432-2828722e1880"
   },
   "outputs": [
    {
     "name": "stdout",
     "output_type": "stream",
     "text": [
      "(131792, 545)\n",
      "(88750, 545)\n"
     ]
    }
   ],
   "source": [
    "# data partitioning\n",
    "train = df_agg[df_agg.test_mean == 0]\n",
    "test  = df_agg[df_agg.test_mean == 1]\n",
    "print(train.shape)\n",
    "print(test.shape)"
   ]
  },
  {
   "cell_type": "code",
   "execution_count": 41,
   "metadata": {
    "colab": {},
    "colab_type": "code",
    "id": "OC6BTeEb5jtu"
   },
   "outputs": [],
   "source": [
    "# remove target\n",
    "y = train.target\n",
    "y[y == False] = 0\n",
    "y[y == True]  = 1\n",
    "y = y.astype(\"int\")"
   ]
  },
  {
   "cell_type": "code",
   "execution_count": 42,
   "metadata": {
    "colab": {},
    "colab_type": "code",
    "id": "jNuWzfEi5ogl"
   },
   "outputs": [],
   "source": [
    "# remove variables\n",
    "omits = [\"test_mean\", \"target\"]\n",
    "for var in omits:\n",
    "    del train[str(var)]\n",
    "    del test[str(var)]"
   ]
  },
  {
   "cell_type": "code",
   "execution_count": 43,
   "metadata": {
    "colab": {},
    "colab_type": "code",
    "id": "b2hznKma6in2"
   },
   "outputs": [
    {
     "name": "stdout",
     "output_type": "stream",
     "text": [
      "542\n"
     ]
    }
   ],
   "source": [
    "# excluded features\n",
    "#excluded_feats = [col for col in train.columns if  ((col.startswith(\"type_simplified_\") & (col.endswith(\"_min\") | col.endswith(\"_max\")))\n",
    "#                                           |  (col.startswith(\"type_\") & (col.endswith(\"_min\") | col.endswith(\"_max\"))) |\n",
    "#                                            (col.startswith(\"type_\") & (col.endswith(\"_min\") | col.endswith(\"_max\")))|\n",
    "#                                     col.startswith(\"siteid_\") |  col.startswith(\"device_\") |  col.startswith(\"stype_\"))]\n",
    "excluded_feats = []\n",
    "features = [f for f in train.columns if f not in excluded_feats]\n",
    "features = [f for f in features if f not in \"sid\"]\n",
    "print(len(features))"
   ]
  },
  {
   "cell_type": "code",
   "execution_count": 47,
   "metadata": {
    "colab": {},
    "colab_type": "code",
    "id": "ynozDG6yivwQ"
   },
   "outputs": [],
   "source": [
    "##### PARAMETERS\n",
    "\n",
    "# seed\n",
    "seed = 42\n",
    "\n",
    "# parallel settings\n",
    "cores = 20\n",
    "\n",
    "# learner settings\n",
    "metric   = \"logloss\"\n",
    "verbose  = 200\n",
    "stopping = 200\n",
    "\n",
    "# CV settings\n",
    "num_folds = 3\n",
    "shuffle   = True\n",
    "\n",
    "# xgboost\n",
    "gbm = xgb.XGBClassifier(max_depth      = 7, \n",
    "                        n_estimators   = 5000, \n",
    "                        learning_rate  = 0.007,\n",
    "                        max_bin        = 16, \n",
    "                        #tree_method   ='gpu_hist', \n",
    "                        tree_method    ='hist', \n",
    "                        reg_alpha      = 0.5, \n",
    "                        reg_lambda     = 0.5,\n",
    "                        verbose        = verbose, \n",
    "                        random_state   = seed,\n",
    "                        num_threads    = cores)"
   ]
  },
  {
   "cell_type": "code",
   "execution_count": 48,
   "metadata": {
    "colab": {},
    "colab_type": "code",
    "id": "k0h75vus1y1X"
   },
   "outputs": [],
   "source": [
    "# data partitinoing\n",
    "folds = StratifiedKFold(n_splits = num_folds, random_state = seed, shuffle = shuffle)\n",
    "\n",
    "# placeholders\n",
    "valid_aucs_cv = np.zeros(num_folds) \n",
    "test_preds_cv = np.zeros(test.shape[0])\n",
    "feature_importance_df = pd.DataFrame()\n",
    "preds_val_cv = np.zeros(len(train))"
   ]
  },
  {
   "cell_type": "code",
   "execution_count": 49,
   "metadata": {
    "colab": {
     "base_uri": "https://localhost:8080/",
     "height": 1666
    },
    "colab_type": "code",
    "executionInfo": {
     "elapsed": 2983708,
     "status": "ok",
     "timestamp": 1538213036432,
     "user": {
      "displayName": "Nikita Kozodoi",
      "photoUrl": "",
      "userId": "17221903670012320244"
     },
     "user_tz": -120
    },
    "id": "ByqDJOhf10Rl",
    "outputId": "80ab135a-e03c-4fe7-cc8a-5f3ba00bf6ec"
   },
   "outputs": [
    {
     "name": "stdout",
     "output_type": "stream",
     "text": [
      "[0]\tvalidation_0-logloss:0.688238\tvalidation_1-logloss:0.688284\n",
      "Multiple eval metrics have been passed: 'validation_1-logloss' will be used for early stopping.\n",
      "\n",
      "Will train until validation_1-logloss hasn't improved in 200 rounds.\n",
      "[200]\tvalidation_0-logloss:0.309974\tvalidation_1-logloss:0.318396\n",
      "[400]\tvalidation_0-logloss:0.253655\tvalidation_1-logloss:0.271102\n",
      "[600]\tvalidation_0-logloss:0.237787\tvalidation_1-logloss:0.264705\n",
      "[800]\tvalidation_0-logloss:0.228152\tvalidation_1-logloss:0.26381\n",
      "[1000]\tvalidation_0-logloss:0.221606\tvalidation_1-logloss:0.263719\n",
      "[1200]\tvalidation_0-logloss:0.216289\tvalidation_1-logloss:0.263693\n",
      "[1400]\tvalidation_0-logloss:0.21063\tvalidation_1-logloss:0.263615\n",
      "[1600]\tvalidation_0-logloss:0.205578\tvalidation_1-logloss:0.263732\n",
      "Stopping. Best iteration:\n",
      "[1428]\tvalidation_0-logloss:0.209884\tvalidation_1-logloss:0.263606\n",
      "\n",
      "----------------------\n",
      "Fold 1 LOGLOSS: 0.263608\n",
      "----------------------\n",
      "\n",
      "[0]\tvalidation_0-logloss:0.688237\tvalidation_1-logloss:0.688309\n",
      "Multiple eval metrics have been passed: 'validation_1-logloss' will be used for early stopping.\n",
      "\n",
      "Will train until validation_1-logloss hasn't improved in 200 rounds.\n",
      "[200]\tvalidation_0-logloss:0.308067\tvalidation_1-logloss:0.31996\n",
      "[400]\tvalidation_0-logloss:0.250485\tvalidation_1-logloss:0.274339\n",
      "[600]\tvalidation_0-logloss:0.235615\tvalidation_1-logloss:0.269184\n",
      "[800]\tvalidation_0-logloss:0.224031\tvalidation_1-logloss:0.268508\n",
      "[1000]\tvalidation_0-logloss:0.216913\tvalidation_1-logloss:0.268435\n",
      "[1200]\tvalidation_0-logloss:0.211013\tvalidation_1-logloss:0.268489\n",
      "Stopping. Best iteration:\n",
      "[1004]\tvalidation_0-logloss:0.21678\tvalidation_1-logloss:0.268429\n",
      "\n",
      "----------------------\n",
      "Fold 2 LOGLOSS: 0.268430\n",
      "----------------------\n",
      "\n",
      "[0]\tvalidation_0-logloss:0.688255\tvalidation_1-logloss:0.688282\n",
      "Multiple eval metrics have been passed: 'validation_1-logloss' will be used for early stopping.\n",
      "\n",
      "Will train until validation_1-logloss hasn't improved in 200 rounds.\n",
      "[200]\tvalidation_0-logloss:0.310358\tvalidation_1-logloss:0.318061\n",
      "[400]\tvalidation_0-logloss:0.253253\tvalidation_1-logloss:0.270819\n",
      "[600]\tvalidation_0-logloss:0.238042\tvalidation_1-logloss:0.264555\n",
      "[800]\tvalidation_0-logloss:0.227749\tvalidation_1-logloss:0.263577\n",
      "[1000]\tvalidation_0-logloss:0.221675\tvalidation_1-logloss:0.263186\n",
      "[1200]\tvalidation_0-logloss:0.216355\tvalidation_1-logloss:0.263134\n",
      "Stopping. Best iteration:\n",
      "[1196]\tvalidation_0-logloss:0.216439\tvalidation_1-logloss:0.263132\n",
      "\n",
      "----------------------\n",
      "Fold 3 LOGLOSS: 0.263134\n",
      "----------------------\n",
      "\n",
      "Cross-Validation LOGLOSS score 0.265058\n"
     ]
    }
   ],
   "source": [
    "##### CROSS-VALIDATION \n",
    "\n",
    "### master loop\n",
    "for n_fold, (trn_idx, val_idx) in enumerate(folds.split(train, y)):\n",
    "    \n",
    "    # data partitioning\n",
    "    trn_x, trn_y = train[features].iloc[trn_idx], y.iloc[trn_idx]\n",
    "    val_x, val_y = train[features].iloc[val_idx], y.iloc[val_idx]\n",
    "    \n",
    "    # train the model\n",
    "    gbm = gbm.fit(trn_x, trn_y, \n",
    "                  eval_set = [(trn_x, trn_y), (val_x, val_y)], \n",
    "                  eval_metric = metric, \n",
    "                  verbose = verbose, \n",
    "                  early_stopping_rounds = stopping)\n",
    "    \n",
    "    # save number of iterations\n",
    "    num_iter_cv = gbm.best_iteration\n",
    "    \n",
    "    # predictions\n",
    "    valid_preds_cv = gbm.predict_proba(val_x, ntree_limit = num_iter_cv)[:, 1]\n",
    "    valid_aucs_cv[n_fold] = log_loss(val_y, valid_preds_cv)\n",
    "    test_preds_cv += gbm.predict_proba(test[features], ntree_limit = num_iter_cv)[:, 1] / folds.n_splits \n",
    "    preds_val_cv[val_idx] = valid_preds_cv\n",
    "    \n",
    "    \n",
    "    # importance\n",
    "    fold_importance_df = pd.DataFrame()\n",
    "    fold_importance_df[\"Feature\"] = features\n",
    "    fold_importance_df[\"Importance\"] = gbm.feature_importances_\n",
    "    fold_importance_df[\"Fold\"] = n_fold + 1\n",
    "    feature_importance_df = pd.concat([feature_importance_df, fold_importance_df], axis = 0)\n",
    "    \n",
    "    # print performance\n",
    "    print(\"----------------------\")\n",
    "    print(\"Fold%2d LOGLOSS: %.6f\" % (n_fold + 1, valid_aucs_cv[n_fold]))\n",
    "    print(\"----------------------\")\n",
    "    print(\"\")\n",
    "    \n",
    "    # clear memory\n",
    "    del trn_x, trn_y, val_x, val_y\n",
    "    \n",
    "# print overall performance    \n",
    "auc = np.mean(valid_aucs_cv)\n",
    "print(\"Cross-Validation LOGLOSS score %.6f\" % np.mean(valid_aucs_cv))"
   ]
  },
  {
   "cell_type": "code",
   "execution_count": 51,
   "metadata": {
    "colab": {
     "base_uri": "https://localhost:8080/",
     "height": 729
    },
    "colab_type": "code",
    "executionInfo": {
     "elapsed": 1682,
     "status": "ok",
     "timestamp": 1538213070998,
     "user": {
      "displayName": "Nikita Kozodoi",
      "photoUrl": "",
      "userId": "17221903670012320244"
     },
     "user_tz": -120
    },
    "id": "ympMfTgV122E",
    "outputId": "88a193e3-90c0-4276-de8e-ef60e1f078c2"
   },
   "outputs": [
    {
     "data": {
      "image/png": "[encoded data removed]",
      "text/plain": [
       "<Figure size 720x720 with 1 Axes>"
      ]
     },
     "metadata": {},
     "output_type": "display_data"
    }
   ],
   "source": [
    "##### VARIABLE IMPORTANCE\n",
    "\n",
    "# load importance    \n",
    "top_feats = 50\n",
    "cols = feature_importance_df[[\"Feature\", \"Importance\"]].groupby(\"Feature\").mean().sort_values(by = \"Importance\", ascending = False)[0:top_feats].index\n",
    "importance = feature_importance_df.loc[feature_importance_df.Feature.isin(cols)]\n",
    "    \n",
    "# plot variable importance\n",
    "plt.figure(figsize = (10, 10))\n",
    "sns.barplot(x = \"Importance\", y = \"Feature\", data = importance.sort_values(by = \"Importance\", ascending = False))\n",
    "plt.title('XGB Variable Importance (mean over CV folds)')\n",
    "plt.tight_layout()"
   ]
  },
  {
   "cell_type": "markdown",
   "metadata": {
    "colab_type": "text",
    "id": "2mzoBq_Aiwoj"
   },
   "source": [
    "## **4. CREATE SUBMISSION**"
   ]
  },
  {
   "cell_type": "code",
   "execution_count": 53,
   "metadata": {
    "colab": {},
    "colab_type": "code",
    "id": "l79rqg2t17ra"
   },
   "outputs": [],
   "source": [
    "# create submission\n",
    "test = test.reset_index()\n",
    "test[\"target\"] = test_preds_cv\n",
    "subm = test[[\"sid\", \"target\"]]\n",
    "subm.to_csv(\"../submissions/nxgb_\" + str(auc)[2:9]+ \".csv\", index=False)\n",
    "pd.DataFrame(preds_val_cv).to_csv(\"../pred_valid/nxgb_\" + str(auc)[2:9]+ \".csv\", index=False)"
   ]
  },
  {
   "cell_type": "code",
   "execution_count": 54,
   "metadata": {
    "colab": {},
    "colab_type": "code",
    "id": "m-d1s6sfi0hB"
   },
   "outputs": [],
   "source": [
    "# submission function\n",
    "import io, math, requests\n",
    "def submit_prediction(df, sep=',', comment='', **kwargs):\n",
    "    TOKEN='b488bb2563e59cdecf8bbf5cce438cdbead96fc37c443afa5b50746c1f89d35b5eb4eda85c0573e483ba618d90631f3797c34e3fefa65b7d5f9c9c3cfe30cc9b'\n",
    "    URL='https://qscore.datasciencegame.com/api/submissions'\n",
    "    buffer = io.StringIO()\n",
    "    df.to_csv(buffer, sep=sep, **kwargs)\n",
    "    buffer.seek(0)\n",
    "    r = requests.post(URL, headers={'Authorization': 'Bearer {}'.format(TOKEN)},files={'datafile': buffer},data={'comment':comment})\n",
    "    if r.status_code == 429:\n",
    "        raise Exception('Submissions are too close. Next submission is only allowed in {} seconds.'.format(int(math.ceil(int(r.headers['x-rate-limit-remaining']) / 1000.0))))\n",
    "    if r.status_code != 200:\n",
    "        raise Exception(r.text)"
   ]
  },
  {
   "cell_type": "code",
   "execution_count": 55,
   "metadata": {
    "colab": {
     "base_uri": "https://localhost:8080/",
     "height": 371
    },
    "colab_type": "code",
    "executionInfo": {
     "elapsed": 1254,
     "status": "error",
     "timestamp": 1538213113794,
     "user": {
      "displayName": "Nikita Kozodoi",
      "photoUrl": "",
      "userId": "17221903670012320244"
     },
     "user_tz": -120
    },
    "id": "pBf9SAk_9pBL",
    "outputId": "f46f8f8d-4130-4a41-aa9e-9ff6863dcfbf"
   },
   "outputs": [
    {
     "ename": "Exception",
     "evalue": "Submissions are not opened with token b488bb2563e59cdecf8bbf5cce438cdbead96fc37c443afa5b50746c1f89d35b5eb4eda85c0573e483ba618d90631f3797c34e3fefa65b7d5f9c9c3cfe30cc9b",
     "output_type": "error",
     "traceback": [
      "\u001b[1;31m---------------------------------------------------------------------------\u001b[0m",
      "\u001b[1;31mException\u001b[0m                                 Traceback (most recent call last)",
      "\u001b[1;32m<ipython-input-55-e0b049693efa>\u001b[0m in \u001b[0;36m<module>\u001b[1;34m()\u001b[0m\n\u001b[0;32m      1\u001b[0m \u001b[1;31m# submit prediction\u001b[0m\u001b[1;33m\u001b[0m\u001b[1;33m\u001b[0m\u001b[0m\n\u001b[1;32m----> 2\u001b[1;33m \u001b[0msubmit_prediction\u001b[0m\u001b[1;33m(\u001b[0m\u001b[0msubm\u001b[0m\u001b[1;33m,\u001b[0m \u001b[0msep\u001b[0m\u001b[1;33m=\u001b[0m\u001b[1;34m','\u001b[0m\u001b[1;33m,\u001b[0m \u001b[0mindex\u001b[0m \u001b[1;33m=\u001b[0m \u001b[1;32mTrue\u001b[0m\u001b[1;33m,\u001b[0m \u001b[0mcomment\u001b[0m \u001b[1;33m=\u001b[0m \u001b[1;34m'xgb, k=3, f=542, 0.265058'\u001b[0m\u001b[1;33m)\u001b[0m\u001b[1;33m\u001b[0m\u001b[0m\n\u001b[0m",
      "\u001b[1;32m<ipython-input-54-ad3641c1b7b5>\u001b[0m in \u001b[0;36msubmit_prediction\u001b[1;34m(df, sep, comment, **kwargs)\u001b[0m\n\u001b[0;32m     11\u001b[0m         \u001b[1;32mraise\u001b[0m \u001b[0mException\u001b[0m\u001b[1;33m(\u001b[0m\u001b[1;34m'Submissions are too close. Next submission is only allowed in {} seconds.'\u001b[0m\u001b[1;33m.\u001b[0m\u001b[0mformat\u001b[0m\u001b[1;33m(\u001b[0m\u001b[0mint\u001b[0m\u001b[1;33m(\u001b[0m\u001b[0mmath\u001b[0m\u001b[1;33m.\u001b[0m\u001b[0mceil\u001b[0m\u001b[1;33m(\u001b[0m\u001b[0mint\u001b[0m\u001b[1;33m(\u001b[0m\u001b[0mr\u001b[0m\u001b[1;33m.\u001b[0m\u001b[0mheaders\u001b[0m\u001b[1;33m[\u001b[0m\u001b[1;34m'x-rate-limit-remaining'\u001b[0m\u001b[1;33m]\u001b[0m\u001b[1;33m)\u001b[0m \u001b[1;33m/\u001b[0m \u001b[1;36m1000.0\u001b[0m\u001b[1;33m)\u001b[0m\u001b[1;33m)\u001b[0m\u001b[1;33m)\u001b[0m\u001b[1;33m)\u001b[0m\u001b[1;33m\u001b[0m\u001b[0m\n\u001b[0;32m     12\u001b[0m     \u001b[1;32mif\u001b[0m \u001b[0mr\u001b[0m\u001b[1;33m.\u001b[0m\u001b[0mstatus_code\u001b[0m \u001b[1;33m!=\u001b[0m \u001b[1;36m200\u001b[0m\u001b[1;33m:\u001b[0m\u001b[1;33m\u001b[0m\u001b[0m\n\u001b[1;32m---> 13\u001b[1;33m         \u001b[1;32mraise\u001b[0m \u001b[0mException\u001b[0m\u001b[1;33m(\u001b[0m\u001b[0mr\u001b[0m\u001b[1;33m.\u001b[0m\u001b[0mtext\u001b[0m\u001b[1;33m)\u001b[0m\u001b[1;33m\u001b[0m\u001b[0m\n\u001b[0m",
      "\u001b[1;31mException\u001b[0m: Submissions are not opened with token b488bb2563e59cdecf8bbf5cce438cdbead96fc37c443afa5b50746c1f89d35b5eb4eda85c0573e483ba618d90631f3797c34e3fefa65b7d5f9c9c3cfe30cc9b"
     ]
    }
   ],
   "source": [
    "# submit predictions\n",
    "submit_prediction(subm, sep=',', index = True, comment = 'xgb, k=3, f=542, 0.265058')"
   ]
  },
  {
   "cell_type": "code",
   "execution_count": null,
   "metadata": {},
   "outputs": [],
   "source": [
    "##### RESULTS\n",
    "\n",
    "# lgb 3000-100, k=3, f=48:                                  0.271650 CV | 0.27086 PB\n",
    "# lgb 3000-100, k=3, f=163 (add sec and DE):                0.269679 CV | 0.26966 PB\n",
    "# lgb 3000-100, k=3, f=164 (add pages number):              0.269432 CV | 0.26965 PB\n",
    "# lgb 3000-100, k=3, f=164 (add product json):              0.269139 CV | 0.26949 PB\n",
    "# lgb 3000-100, k=3, f=214 (add opr, siteid, query, sums):  0.268922 CV | 0.26945 PB\n",
    "\n",
    "# xgb 3000-100, k=3, f=279:               0.269320 CV | 0.26964 PB\n",
    "# xgb 3000-100, k=3, f=229: (DONT USE)    0.268983 CV | 0.26921 PB\n",
    "# xgb 3000-100, k=3, f=299: (RVOTERS)     0.268274 CV | 0.26797 PB\n",
    "# xgb 3000-100, k=3, f=302: (SKU_PRICE)   0.267766 CV | 0.26743 PB\n",
    "# xgb 3000-100, k=3, f=313:               0.267395 CV | 0.26719 PB\n",
    "\n",
    "# xgb 3000-100, k=3, f=322 (correct time) 0.265493 CV | 0.26462 PB\n",
    "# xgb 3000-100, k=3, f=326 (correct time) 0.265467 CV | 0.26456 PB\n",
    "\n",
    "# xgb 3000-100, k=3, f=542, including omitted features            0.265058"
   ]
  }
 ],
 "metadata": {
  "colab": {
   "collapsed_sections": [],
   "name": "XGB_Master.ipynb",
   "provenance": [],
   "version": "0.3.2"
  },
  "kernelspec": {
   "display_name": "Python 3",
   "language": "python",
   "name": "python3"
  },
  "language_info": {
   "codemirror_mode": {
    "name": "ipython",
    "version": 3
   },
   "file_extension": ".py",
   "mimetype": "text/x-python",
   "name": "python",
   "nbconvert_exporter": "python",
   "pygments_lexer": "ipython3",
   "version": "3.6.6"
  }
 },
 "nbformat": 4,
 "nbformat_minor": 2
}
