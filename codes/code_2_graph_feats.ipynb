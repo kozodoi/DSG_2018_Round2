{
  "nbformat": 4,
  "nbformat_minor": 0,
  "metadata": {
    "colab": {
      "name": "Nikita.ipynb",
      "version": "0.3.2",
      "provenance": [],
      "collapsed_sections": [],
      "toc_visible": true
    }
  },
  "cells": [
    {
      "metadata": {
        "id": "rzFSaUxAhtuR",
        "colab_type": "code",
        "colab": {}
      },
      "cell_type": "code",
      "source": [
        "# pacjages\n",
        "import pandas as pd\n",
        "import numpy as np\n",
        "import os\n",
        "import gzip\n",
        "import scipy.stats\n",
        "from sklearn.model_selection import StratifiedKFold\n",
        "from sklearn.metrics import log_loss\n",
        "import matplotlib.pyplot as plt\n",
        "import seaborn as sns\n",
        "import io\n",
        "import requests\n",
        "import json\n",
        "from pandas.io.json import json_normalize\n",
        "import networkx as nx"
      ],
      "execution_count": 0,
      "outputs": []
    },
    {
      "metadata": {
        "id": "jXJ7yoII-PHk",
        "colab_type": "code",
        "colab": {}
      },
      "cell_type": "code",
      "source": [
        "# data import\n",
        "df_train   = pd.read_csv('data/train_tracking.csv.gz', compression='gzip')\n",
        "df_test    = pd.read_csv('data/test_tracking.csv.gz',  compression='gzip')\n",
        "\n",
        "# merge data\n",
        "df = df_train.append(df_test)\n",
        "df.shape"
      ],
      "execution_count": 0,
      "outputs": []
    },
    {
      "metadata": {
        "id": "3pB_paLrhbBL",
        "colab_type": "code",
        "colab": {}
      },
      "cell_type": "code",
      "source": [
        "# duration variables\n",
        "df['duration_no_days'] = df.duration.apply(lambda x: x[6:])\n",
        "df['hours'] = df.duration_no_days.apply(lambda x: x[0:3]).astype('int')\n",
        "df['min'] = df.duration_no_days.apply(lambda x: x[4:6]).astype('int')\n",
        "df['secs'] = df.duration_no_days.apply(lambda x: x[7:9]).astype('int')\n",
        "df['sec'] = df['hours']*360 + df['min']*60 + df['secs']\n",
        "df.drop(['duration', 'duration_no_days','hours','min','secs'], axis=1, inplace=True)"
      ],
      "execution_count": 0,
      "outputs": []
    },
    {
      "metadata": {
        "id": "6s175gSwha-Z",
        "colab_type": "code",
        "colab": {}
      },
      "cell_type": "code",
      "source": [
        "# keep relevant data\n",
        "df = df[[\"sid\", \"type\", \"sec\"]]\n",
        "\n",
        "# sort and prepare data\n",
        "df = df.sort_values([\"sid\", \"sec\"])\n",
        "df = df[[\"sid\", \"type\"]]\n",
        "df[\"type2\"] = df.groupby(\"sid\").shift(-1)\n",
        "df = df[-df.type2.isnull()]"
      ],
      "execution_count": 0,
      "outputs": []
    },
    {
      "metadata": {
        "id": "_udjZ5xwsZGx",
        "colab_type": "code",
        "colab": {}
      },
      "cell_type": "code",
      "source": [
        "# placeholder\n",
        "feats = pd.DataFrame(newres)"
      ],
      "execution_count": 0,
      "outputs": []
    },
    {
      "metadata": {
        "id": "N-UOzhayvQdW",
        "colab_type": "code",
        "colab": {}
      },
      "cell_type": "code",
      "source": [
        "# graph features function\n",
        "def compute_graph_features(id):\n",
        "\n",
        "    tmp_df = df[df.sid == id][[\"type\", \"type2\"]]\n",
        "    g = nx.from_pandas_edgelist(tmp_df, \"type\", 'type2')\n",
        "\n",
        "    if tmp_df.shape[0] > 5:\n",
        "                    \n",
        "        feats = [id,\n",
        "        nx.diameter(g),\n",
        "        np.mean(list(nx.eccentricity(g).values())),\n",
        "        len(nx.periphery(g)),\n",
        "        nx.radius(g),\n",
        "        len(nx.center(g)),\n",
        "        len(nx.nodes(g)),\n",
        "        nx.density(g),\n",
        "        nx.transitivity(g),\n",
        "        nx.number_of_edges(g),\n",
        "        nx.number_of_selfloops(g),\n",
        "        nx.node_connectivity(g),\n",
        "        np.mean(list(nx.average_degree_connectivity(g).values())),\n",
        "        np.mean(list(nx.average_neighbor_degree(g).values())),\n",
        "        np.mean(list(nx.closeness_centrality(g).values())),\n",
        "        np.mean(list(nx.betweenness_centrality(g).values())),\n",
        "        np.mean(list(nx.katz_centrality(g).values())),\n",
        "        np.mean(list(nx.pagerank(g).values())),\n",
        "        np.mean(list(nx.eigenvector_centrality(g).values()))]\n",
        "\n",
        "    else:\n",
        "      \n",
        "      feats = [id, np.zeros(17)]\n",
        "      \n",
        "    return feats"
      ],
      "execution_count": 0,
      "outputs": []
    },
    {
      "metadata": {
        "id": "PKDLCsWdxXp6",
        "colab_type": "code",
        "colab": {}
      },
      "cell_type": "code",
      "source": [
        "# create pool\n",
        "from multiprocessing import Pool\n",
        "pool = Pool(22)"
      ],
      "execution_count": 0,
      "outputs": []
    },
    {
      "metadata": {
        "id": "FzW3aH6RvlNh",
        "colab_type": "code",
        "colab": {}
      },
      "cell_type": "code",
      "source": [
        "# compute features\n",
        "for i in range(0, 1):  \n",
        " \n",
        "  if i%50 == 0:\n",
        "    print(i)\n",
        " \n",
        "  try:\n",
        "    newres = pool.map(compute_graph_features, ids[(0+100*i):(100+i*100)])\n",
        "  except:\n",
        "    pass\n",
        "  \n",
        "  feats = feats.append(pd.DataFrame(newres))\n",
        "\n",
        "pool.close()"
      ],
      "execution_count": 0,
      "outputs": []
    },
    {
      "metadata": {
        "id": "Aem10YrAq8IJ",
        "colab_type": "code",
        "colab": {}
      },
      "cell_type": "code",
      "source": [
        "# export\n",
        "feats.columns = [\"sid\", \"g1\", \"g2\", \"g3\", \"g4\", \"g5\", \"g6\", \"g7\", \"g8\", \"g9\", \"g10\",\n",
        "                 \"g11\", \"g12\", \"g13\", \"g14\", \"g15\", \"g16\", \"g17\", \"g18\"]\n",
        "feats.to_csv(\"data/ggg3.csv\", index = False)"
      ],
      "execution_count": 0,
      "outputs": []
    }
  ]
}